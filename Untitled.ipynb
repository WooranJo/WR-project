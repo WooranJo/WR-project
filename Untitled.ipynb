{
 "cells": [
  {
   "cell_type": "code",
   "execution_count": 1,
   "id": "daeb5754",
   "metadata": {},
   "outputs": [
    {
     "name": "stdout",
     "output_type": "stream",
     "text": [
      "Collecting selenium\n",
      "  Downloading selenium-4.2.0-py3-none-any.whl (983 kB)\n",
      "Collecting trio-websocket~=0.9\n",
      "  Downloading trio_websocket-0.9.2-py3-none-any.whl (16 kB)\n",
      "Collecting trio~=0.17\n",
      "  Downloading trio-0.21.0-py3-none-any.whl (358 kB)\n",
      "Requirement already satisfied: urllib3[secure,socks]~=1.26 in c:\\users\\msi\\anaconda3\\lib\\site-packages (from selenium) (1.26.7)\n",
      "Requirement already satisfied: sortedcontainers in c:\\users\\msi\\anaconda3\\lib\\site-packages (from trio~=0.17->selenium) (2.4.0)\n",
      "Requirement already satisfied: sniffio in c:\\users\\msi\\anaconda3\\lib\\site-packages (from trio~=0.17->selenium) (1.2.0)\n",
      "Requirement already satisfied: attrs>=19.2.0 in c:\\users\\msi\\anaconda3\\lib\\site-packages (from trio~=0.17->selenium) (21.2.0)\n",
      "Collecting outcome\n",
      "  Downloading outcome-1.2.0-py2.py3-none-any.whl (9.7 kB)\n",
      "Requirement already satisfied: cffi>=1.14 in c:\\users\\msi\\anaconda3\\lib\\site-packages (from trio~=0.17->selenium) (1.14.6)\n",
      "Requirement already satisfied: idna in c:\\users\\msi\\anaconda3\\lib\\site-packages (from trio~=0.17->selenium) (3.2)\n",
      "Requirement already satisfied: async-generator>=1.9 in c:\\users\\msi\\anaconda3\\lib\\site-packages (from trio~=0.17->selenium) (1.10)\n",
      "Requirement already satisfied: pycparser in c:\\users\\msi\\anaconda3\\lib\\site-packages (from cffi>=1.14->trio~=0.17->selenium) (2.20)\n",
      "Collecting wsproto>=0.14\n",
      "  Downloading wsproto-1.1.0-py3-none-any.whl (24 kB)\n",
      "Requirement already satisfied: pyOpenSSL>=0.14 in c:\\users\\msi\\anaconda3\\lib\\site-packages (from urllib3[secure,socks]~=1.26->selenium) (21.0.0)\n",
      "Requirement already satisfied: cryptography>=1.3.4 in c:\\users\\msi\\anaconda3\\lib\\site-packages (from urllib3[secure,socks]~=1.26->selenium) (3.4.8)\n",
      "Requirement already satisfied: certifi in c:\\users\\msi\\anaconda3\\lib\\site-packages (from urllib3[secure,socks]~=1.26->selenium) (2021.10.8)\n",
      "Requirement already satisfied: PySocks!=1.5.7,<2.0,>=1.5.6 in c:\\users\\msi\\anaconda3\\lib\\site-packages (from urllib3[secure,socks]~=1.26->selenium) (1.7.1)\n",
      "Requirement already satisfied: six>=1.5.2 in c:\\users\\msi\\anaconda3\\lib\\site-packages (from pyOpenSSL>=0.14->urllib3[secure,socks]~=1.26->selenium) (1.16.0)\n",
      "Collecting h11<1,>=0.9.0\n",
      "  Downloading h11-0.13.0-py3-none-any.whl (58 kB)\n",
      "Installing collected packages: outcome, h11, wsproto, trio, trio-websocket, selenium\n",
      "Successfully installed h11-0.13.0 outcome-1.2.0 selenium-4.2.0 trio-0.21.0 trio-websocket-0.9.2 wsproto-1.1.0\n",
      "Requirement already satisfied: beautifulsoup4 in c:\\users\\msi\\anaconda3\\lib\\site-packages (4.10.0)\n",
      "Requirement already satisfied: soupsieve>1.2 in c:\\users\\msi\\anaconda3\\lib\\site-packages (from beautifulsoup4) (2.2.1)\n"
     ]
    }
   ],
   "source": [
    "!pip install selenium\n",
    "!pip install beautifulsoup4"
   ]
  },
  {
   "cell_type": "code",
   "execution_count": 1,
   "id": "eed1c843",
   "metadata": {},
   "outputs": [],
   "source": [
    "import selenium\n",
    "from selenium import webdriver\n",
    "from bs4 import BeautifulSoup\n",
    "import time\n",
    "import pandas as pd"
   ]
  },
  {
   "cell_type": "code",
   "execution_count": 70,
   "id": "46bfed94",
   "metadata": {},
   "outputs": [
    {
     "name": "stderr",
     "output_type": "stream",
     "text": [
      "C:\\Users\\MSI\\AppData\\Local\\Temp/ipykernel_8936/3718909417.py:2: DeprecationWarning: executable_path has been deprecated, please pass in a Service object\n",
      "  driver = webdriver.Chrome('chromedriver.exe')\n"
     ]
    }
   ],
   "source": [
    "url = \"https://oasis.kiom.re.kr/oasis/herb/monoSearch.jsp?srch_menu_nix=87Z2RM16\"\n",
    "driver = webdriver.Chrome('chromedriver.exe')\n",
    "driver.get(url)\n",
    "\n",
    "# 상세보기\n",
    "detail_xpath = '/html/body/div/div/section/form/ul[{0}]/li[{1}]/a'\n",
    "# 약성클릭\n",
    "nature_xpath1 = '/html/body/div/div/nav/div/div/div/div[1]/ul/li/ul/li[2]/a'\n",
    "nature_xpath2 = '/html/body/div/div/nav/div/div/ul/li/ul/li[2]/a'\n",
    " \n",
    "\n",
    "def click_inside(ul, li):\n",
    "    try: \n",
    "        driver.find_element_by_xpath(detail_xpath.format(ul, li)).click() # 상세보기 클릭\n",
    "        driver.implicitly_wait(2)\n",
    "        driver.find_element_by_xpath(nature_xpath1).click() # 약성 클릭1\n",
    "        \n",
    "    except:\n",
    "        driver.find_element_by_xpath(nature_xpath2).click() # 약성 클릭2\n",
    "        \n",
    "\n",
    "def scrape():\n",
    "    html = driver.page_source\n",
    "    soup = BeautifulSoup(html, 'html.parser')\n",
    "    \n",
    "    # 약초 한글명, 한자명, 학명 긁기\n",
    "    title = soup.find_all('h2', class_='title')\n",
    "    name = title[0].string.split(',')\n",
    "    dictionary = {'국명':name[0], '한자명':name[1], '학명':name[2]}  # dictionary에 저장 (dataframe에 넣기 위해서)\n",
    "    \n",
    "    tds = soup.find_all('td') # table에 있는 정보\n",
    "    texts = [t.text.strip() for t in tds if t.text.strip() and not t.text.strip().isdigit()] # 공백, 숫자로만 이루어진 스트링 빼고 담기\n",
    "    texts = texts[0:13] # 필요한 정보만 자르기\n",
    "    \n",
    "    contents = dict()\n",
    "    for s in range(len(texts)-1): # {index:content}로 저장\n",
    "        if s%2==0:\n",
    "            contents[texts[s]] = texts[s+1]\n",
    "    contents[\"인경\"] = texts[-1]\n",
    "    \n",
    "    dictionary.update(contents) # name, contents dictionary 합치기\n",
    "    page_df = pd.DataFrame(dictionary, index=[0]) # 한글명, 한자명, 학명, 효능 기타등등 dataframe 넣기!\n",
    "    return dictionary # 약초 하나에 대한 정보가 담긴 dataframe 반환"
   ]
  },
  {
   "cell_type": "code",
   "execution_count": 71,
   "id": "c5aa5108",
   "metadata": {},
   "outputs": [
    {
     "name": "stderr",
     "output_type": "stream",
     "text": [
      "C:\\Users\\MSI\\AppData\\Local\\Temp/ipykernel_8936/3718909417.py:14: DeprecationWarning: find_element_by_xpath is deprecated. Please use find_element(by=By.XPATH, value=xpath) instead\n",
      "  driver.find_element_by_xpath(detail_xpath.format(ul, li)).click() # 상세보기 클릭\n",
      "C:\\Users\\MSI\\AppData\\Local\\Temp/ipykernel_8936/3718909417.py:16: DeprecationWarning: find_element_by_xpath is deprecated. Please use find_element(by=By.XPATH, value=xpath) instead\n",
      "  driver.find_element_by_xpath(nature_xpath1).click() # 약성 클릭1\n"
     ]
    }
   ],
   "source": [
    "df = pd.DataFrame()\n",
    "for i in range(1, 17):\n",
    "    try:\n",
    "        for j in range(1, 5):\n",
    "            click_inside(i, j) # 클릭\n",
    "            driver.implicitly_wait(2)\n",
    "            dictionary = scrape() # 약초 하나에 대한 dataframe 가져오기\n",
    "            \n",
    "            df = df.append(dictionary, ignore_index=True) # 전체 dataframe에 합치기\n",
    "            \n",
    "            driver.back() # 뒤로가기\n",
    "            driver.implicitly_wait(2)\n",
    "            driver.back() # 뒤로가기 (처음페이지로)\n",
    "            driver.implicitly_wait(2)\n",
    "    finally: # 오류가 나타나거나 작업이 끝나면 driver 종료\n",
    "        driver.close()"
   ]
  },
  {
   "cell_type": "code",
   "execution_count": 35,
   "id": "e7e6601f",
   "metadata": {},
   "outputs": [
    {
     "name": "stderr",
     "output_type": "stream",
     "text": [
      "C:\\Users\\MSI\\AppData\\Local\\Temp/ipykernel_8936/2178445774.py:2: DeprecationWarning: find_element_by_xpath is deprecated. Please use find_element(by=By.XPATH, value=xpath) instead\n",
      "  driver.find_element_by_xpath('/html/body/div/div/section/form/ul[1]/li[3]/a').click()\n",
      "C:\\Users\\MSI\\AppData\\Local\\Temp/ipykernel_8936/2178445774.py:3: DeprecationWarning: find_element_by_xpath is deprecated. Please use find_element(by=By.XPATH, value=xpath) instead\n",
      "  driver.find_element_by_xpath(nature_xpath1).click()\n"
     ]
    }
   ],
   "source": [
    "# testing\n",
    "driver.find_element_by_xpath('/html/body/div/div/section/form/ul[1]/li[3]/a').click()\n",
    "driver.find_element_by_xpath(nature_xpath1).click()\n",
    "\n",
    "html = driver.page_source\n",
    "soup = BeautifulSoup(html, 'html.parser')\n",
    "    \n",
    "    # 약초 한글명, 한자명, 학명 긁기\n",
    "title = soup.find_all('h2', class_='title')\n",
    "name = title[0].string.split(',')\n",
    "dictionary = {'국명':name[0], '한자명':name[1], '학명':name[2]}  # dictionary에 저장 (dataframe에 넣기 위해서)\n",
    "    \n",
    "# name_df = pd.DataFrame(name_dict, index=[0]) # dataframe에 저장\n",
    "    \n",
    "tds = soup.find_all('td') # table에 있는 정보\n",
    "texts = [t.text.strip() for t in tds if t.text.strip() and not t.text.strip().isdigit()] # 공백, 숫자로만 이루어진 스트링 빼고 담기\n",
    "texts = texts[0:13] # 필요한 정보만 자르기\n",
    "    \n",
    "contents = dict()\n",
    "for s in range(len(texts)-1): # {index:content}로 저장\n",
    "    if s%2==0:\n",
    "        contents[texts[s]] = texts[s+1]\n",
    "contents[\"인경\"] = texts[-1]\n",
    "# content_df = pd.DataFrame(contents, index=[0]) # dataframe으로 저장\n",
    "dictionary.update(contents)    \n",
    "page_df = pd.DataFrame(dictionary, index=[0]) # 한글명, 한자명, 학명, 효능 기타등등 dataframe 합치기!\n",
    "# return page_df # 약초 하나에 대한 정보가 담긴 dataframe 반환\n"
   ]
  },
  {
   "cell_type": "code",
   "execution_count": 72,
   "id": "9477261b",
   "metadata": {},
   "outputs": [
    {
     "data": {
      "text/html": [
       "<div>\n",
       "<style scoped>\n",
       "    .dataframe tbody tr th:only-of-type {\n",
       "        vertical-align: middle;\n",
       "    }\n",
       "\n",
       "    .dataframe tbody tr th {\n",
       "        vertical-align: top;\n",
       "    }\n",
       "\n",
       "    .dataframe thead th {\n",
       "        text-align: right;\n",
       "    }\n",
       "</style>\n",
       "<table border=\"1\" class=\"dataframe\">\n",
       "  <thead>\n",
       "    <tr style=\"text-align: right;\">\n",
       "      <th></th>\n",
       "      <th>국명</th>\n",
       "      <th>한자명</th>\n",
       "      <th>학명</th>\n",
       "      <th>약용부위</th>\n",
       "      <th>약성가</th>\n",
       "      <th>성미</th>\n",
       "      <th>귀경</th>\n",
       "      <th>장부보사</th>\n",
       "      <th>효능분류</th>\n",
       "      <th>인경</th>\n",
       "    </tr>\n",
       "  </thead>\n",
       "  <tbody>\n",
       "    <tr>\n",
       "      <th>0</th>\n",
       "      <td>가자</td>\n",
       "      <td>訶子</td>\n",
       "      <td>Terminaliae Fructus</td>\n",
       "      <td>열매(果實)</td>\n",
       "      <td>訶子味苦澁腸可 痢嗽痰喘降肺火</td>\n",
       "      <td>苦酸澀溫</td>\n",
       "      <td>肺大腸</td>\n",
       "      <td>대장(大腸)을 보한다.</td>\n",
       "      <td>收澀藥止瀉藥</td>\n",
       "      <td>따뜻하거나 서늘하거나, 차거나 뜨거운 기를 겸하며 위(胃)가 대응하고, 단맛ㆍ매운맛...</td>\n",
       "    </tr>\n",
       "    <tr>\n",
       "      <th>1</th>\n",
       "      <td>갈근</td>\n",
       "      <td>葛根</td>\n",
       "      <td>Puerariae Radix</td>\n",
       "      <td>뿌리(根)</td>\n",
       "      <td>葛根味甘解傷寒 酒毒溫瘧渴並安</td>\n",
       "      <td>甘辛平</td>\n",
       "      <td>脾胃</td>\n",
       "      <td>위(胃)를 서늘하게 한다.</td>\n",
       "      <td>解表藥發散風熱藥</td>\n",
       "      <td>경제(輕劑)는 실한 것[實]을 없애니 마황ㆍ갈근 등이 이에 해당한다.\\n미가 연하므...</td>\n",
       "    </tr>\n",
       "    <tr>\n",
       "      <th>2</th>\n",
       "      <td>갈화</td>\n",
       "      <td>葛花</td>\n",
       "      <td>Puerariae Flos</td>\n",
       "      <td>꽃봉오리(花蕾)</td>\n",
       "      <td>-</td>\n",
       "      <td>甘凉無毒</td>\n",
       "      <td>胃</td>\n",
       "      <td>-</td>\n",
       "      <td>解表藥發散風熱藥</td>\n",
       "      <td>-</td>\n",
       "    </tr>\n",
       "    <tr>\n",
       "      <th>3</th>\n",
       "      <td>감국</td>\n",
       "      <td>甘菊</td>\n",
       "      <td>Chrysanthemi Indici Flos</td>\n",
       "      <td>꽃(花)</td>\n",
       "      <td>-</td>\n",
       "      <td>甘苦微寒無毒</td>\n",
       "      <td>肺肝</td>\n",
       "      <td>-</td>\n",
       "      <td>解表藥發散風熱藥</td>\n",
       "      <td>-</td>\n",
       "    </tr>\n",
       "  </tbody>\n",
       "</table>\n",
       "</div>"
      ],
      "text/plain": [
       "   국명 한자명                        학명      약용부위              약성가      성미   귀경  \\\n",
       "0  가자  訶子       Terminaliae Fructus    열매(果實)  訶子味苦澁腸可 痢嗽痰喘降肺火    苦酸澀溫  肺大腸   \n",
       "1  갈근  葛根           Puerariae Radix     뿌리(根)  葛根味甘解傷寒 酒毒溫瘧渴並安     甘辛平   脾胃   \n",
       "2  갈화  葛花            Puerariae Flos  꽃봉오리(花蕾)                -    甘凉無毒    胃   \n",
       "3  감국  甘菊  Chrysanthemi Indici Flos      꽃(花)                -  甘苦微寒無毒   肺肝   \n",
       "\n",
       "             장부보사      효능분류                                                 인경  \n",
       "0    대장(大腸)을 보한다.    收澀藥止瀉藥  따뜻하거나 서늘하거나, 차거나 뜨거운 기를 겸하며 위(胃)가 대응하고, 단맛ㆍ매운맛...  \n",
       "1  위(胃)를 서늘하게 한다.  解表藥發散風熱藥  경제(輕劑)는 실한 것[實]을 없애니 마황ㆍ갈근 등이 이에 해당한다.\\n미가 연하므...  \n",
       "2               -  解表藥發散風熱藥                                                  -  \n",
       "3               -  解表藥發散風熱藥                                                  -  "
      ]
     },
     "execution_count": 72,
     "metadata": {},
     "output_type": "execute_result"
    }
   ],
   "source": [
    "# df = pd.DataFrame(columns=dictionary.keys())\n",
    "# df.append(dictionary)\n",
    "# df = df.append(dictionary, ignore_index=True)\n",
    "df"
   ]
  },
  {
   "cell_type": "code",
   "execution_count": 22,
   "id": "422c60d0",
   "metadata": {},
   "outputs": [
    {
     "data": {
      "text/plain": [
       "{'국명': '갈화', '한자명': '葛花', '학명': 'Puerariae Flos'}"
      ]
     },
     "execution_count": 22,
     "metadata": {},
     "output_type": "execute_result"
    }
   ],
   "source": [
    "name_dict"
   ]
  },
  {
   "cell_type": "code",
   "execution_count": 26,
   "id": "90856fdd",
   "metadata": {},
   "outputs": [],
   "source": [
    "tds = soup.find_all('td') # table에 있는 정보\n",
    "texts = [t.text.strip() for t in tds if t.text.strip() and not t.text.strip().isdigit()] # 공백, 숫자로만 이루어진 스트링 빼고 담기\n",
    "texts = texts[0:13] # 필요한 정보만 자르기\n",
    "    \n",
    "contents = dict()\n",
    "for s in range(len(texts)-1): # {index:content}로 저장\n",
    "    if s%2==0:\n",
    "        contents[texts[s]] = texts[s+1]\n",
    "contents[\"인경\"] = texts[-1]\n"
   ]
  },
  {
   "cell_type": "code",
   "execution_count": 28,
   "id": "9105d145",
   "metadata": {},
   "outputs": [
    {
     "data": {
      "text/plain": [
       "{'약용부위': '꽃봉오리(花蕾)',\n",
       " '약성가': '-',\n",
       " '성미': '甘凉無毒',\n",
       " '귀경': '胃',\n",
       " '장부보사': '-',\n",
       " '효능분류': '解表藥發散風熱藥',\n",
       " '인경': '-'}"
      ]
     },
     "execution_count": 28,
     "metadata": {},
     "output_type": "execute_result"
    }
   ],
   "source": [
    "contents"
   ]
  },
  {
   "cell_type": "code",
   "execution_count": 31,
   "id": "eeb2d609",
   "metadata": {},
   "outputs": [
    {
     "data": {
      "text/plain": [
       "{'국명': '갈화',\n",
       " '한자명': '葛花',\n",
       " '학명': 'Puerariae Flos',\n",
       " '약용부위': '꽃봉오리(花蕾)',\n",
       " '약성가': '-',\n",
       " '성미': '甘凉無毒',\n",
       " '귀경': '胃',\n",
       " '장부보사': '-',\n",
       " '효능분류': '解表藥發散風熱藥',\n",
       " '인경': '-'}"
      ]
     },
     "execution_count": 31,
     "metadata": {},
     "output_type": "execute_result"
    }
   ],
   "source": [
    "name_dict.update(contents)\n",
    "name_dict"
   ]
  },
  {
   "cell_type": "code",
   "execution_count": 36,
   "id": "d0c065e1",
   "metadata": {},
   "outputs": [
    {
     "data": {
      "text/html": [
       "<div>\n",
       "<style scoped>\n",
       "    .dataframe tbody tr th:only-of-type {\n",
       "        vertical-align: middle;\n",
       "    }\n",
       "\n",
       "    .dataframe tbody tr th {\n",
       "        vertical-align: top;\n",
       "    }\n",
       "\n",
       "    .dataframe thead th {\n",
       "        text-align: right;\n",
       "    }\n",
       "</style>\n",
       "<table border=\"1\" class=\"dataframe\">\n",
       "  <thead>\n",
       "    <tr style=\"text-align: right;\">\n",
       "      <th></th>\n",
       "      <th>국명</th>\n",
       "      <th>한자명</th>\n",
       "      <th>학명</th>\n",
       "      <th>약용부위</th>\n",
       "      <th>약성가</th>\n",
       "      <th>성미</th>\n",
       "      <th>귀경</th>\n",
       "      <th>장부보사</th>\n",
       "      <th>효능분류</th>\n",
       "      <th>인경</th>\n",
       "    </tr>\n",
       "  </thead>\n",
       "  <tbody>\n",
       "    <tr>\n",
       "      <th>0</th>\n",
       "      <td>갈화</td>\n",
       "      <td>葛花</td>\n",
       "      <td>Puerariae Flos</td>\n",
       "      <td>꽃봉오리(花蕾)</td>\n",
       "      <td>-</td>\n",
       "      <td>甘凉無毒</td>\n",
       "      <td>胃</td>\n",
       "      <td>-</td>\n",
       "      <td>解表藥發散風熱藥</td>\n",
       "      <td>-</td>\n",
       "    </tr>\n",
       "  </tbody>\n",
       "</table>\n",
       "</div>"
      ],
      "text/plain": [
       "   국명 한자명              학명      약용부위 약성가    성미 귀경 장부보사      효능분류 인경\n",
       "0  갈화  葛花  Puerariae Flos  꽃봉오리(花蕾)   -  甘凉無毒  胃    -  解表藥發散風熱藥  -"
      ]
     },
     "execution_count": 36,
     "metadata": {},
     "output_type": "execute_result"
    }
   ],
   "source": [
    "page_df"
   ]
  },
  {
   "cell_type": "code",
   "execution_count": null,
   "id": "da085867",
   "metadata": {},
   "outputs": [],
   "source": []
  }
 ],
 "metadata": {
  "kernelspec": {
   "display_name": "Python 3 (ipykernel)",
   "language": "python",
   "name": "python3"
  },
  "language_info": {
   "codemirror_mode": {
    "name": "ipython",
    "version": 3
   },
   "file_extension": ".py",
   "mimetype": "text/x-python",
   "name": "python",
   "nbconvert_exporter": "python",
   "pygments_lexer": "ipython3",
   "version": "3.9.7"
  }
 },
 "nbformat": 4,
 "nbformat_minor": 5
}
